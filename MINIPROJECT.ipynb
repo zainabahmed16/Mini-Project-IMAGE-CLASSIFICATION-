{
  "nbformat": 4,
  "nbformat_minor": 0,
  "metadata": {
    "colab": {
      "name": "MINIPROJECT.ipynb",
      "provenance": [],
      "collapsed_sections": []
    },
    "kernelspec": {
      "name": "python3",
      "display_name": "Python 3"
    }
  },
  "cells": [
    {
      "cell_type": "code",
      "metadata": {
        "id": "KZ_HdxpW5zky",
        "colab_type": "code",
        "colab": {
          "base_uri": "https://localhost:8080/",
          "height": 112
        },
        "outputId": "cb143acd-0887-4f53-bf58-426543bd1545"
      },
      "source": [
        "!pip install bing-image-downloader"
      ],
      "execution_count": 1,
      "outputs": [
        {
          "output_type": "stream",
          "text": [
            "Collecting bing-image-downloader\n",
            "  Downloading https://files.pythonhosted.org/packages/0d/bf/537a61030b84ae4cd5022d5c7b014fd9bc3ce7c02358919153a6658a61d3/bing_image_downloader-1.0.4-py3-none-any.whl\n",
            "Installing collected packages: bing-image-downloader\n",
            "Successfully installed bing-image-downloader-1.0.4\n"
          ],
          "name": "stdout"
        }
      ]
    },
    {
      "cell_type": "code",
      "metadata": {
        "id": "JPwPz41z6GSH",
        "colab_type": "code",
        "colab": {
          "base_uri": "https://localhost:8080/",
          "height": 36
        },
        "outputId": "60aa7005-22b9-49c8-cc04-783ce29d4910"
      },
      "source": [
        "!ls"
      ],
      "execution_count": 2,
      "outputs": [
        {
          "output_type": "stream",
          "text": [
            "sample_data\n"
          ],
          "name": "stdout"
        }
      ]
    },
    {
      "cell_type": "code",
      "metadata": {
        "id": "Dx4R4Ay26I6n",
        "colab_type": "code",
        "colab": {
          "base_uri": "https://localhost:8080/",
          "height": 36
        },
        "outputId": "d11e0094-f366-4bf4-8575-7ec22ede35e9"
      },
      "source": [
        "cd/content/drive/My Drive/MLDS"
      ],
      "execution_count": 3,
      "outputs": [
        {
          "output_type": "stream",
          "text": [
            "/content/drive/My Drive/MLDS\n"
          ],
          "name": "stdout"
        }
      ]
    },
    {
      "cell_type": "code",
      "metadata": {
        "id": "GZH60Syo6myp",
        "colab_type": "code",
        "colab": {}
      },
      "source": [
        "!ls"
      ],
      "execution_count": 5,
      "outputs": []
    },
    {
      "cell_type": "code",
      "metadata": {
        "id": "C4OY5StC6qIz",
        "colab_type": "code",
        "colab": {}
      },
      "source": [
        "!mkdir images"
      ],
      "execution_count": 6,
      "outputs": []
    },
    {
      "cell_type": "code",
      "metadata": {
        "id": "v7XmZPeA6vAa",
        "colab_type": "code",
        "colab": {
          "base_uri": "https://localhost:8080/",
          "height": 36
        },
        "outputId": "a4adab38-f702-4342-c7fb-6f4d68bf1d51"
      },
      "source": [
        "cd images"
      ],
      "execution_count": 7,
      "outputs": [
        {
          "output_type": "stream",
          "text": [
            "/content/drive/My Drive/MLDS/images\n"
          ],
          "name": "stdout"
        }
      ]
    },
    {
      "cell_type": "code",
      "metadata": {
        "id": "no-wEXp56zoL",
        "colab_type": "code",
        "colab": {
          "base_uri": "https://localhost:8080/",
          "height": 1000
        },
        "outputId": "488e96bc-17b5-4efc-ab51-e6fee32fa564"
      },
      "source": [
        "from bing_image_downloader import downloader\n",
        "downloader.download(\"mobile phone\",limit=20,output_dir=\"images\")"
      ],
      "execution_count": 8,
      "outputs": [
        {
          "output_type": "stream",
          "text": [
            "\n",
            "\n",
            "[!!]Indexing page: 1\n",
            "\n",
            "[%] Indexed 20 Images on Page 1.\n",
            "\n",
            "===============================================\n",
            "\n",
            "[%] Downloading Image #1 from https://upload.wikimedia.org/wikipedia/commons/thumb/d/d6/Mobile_phone_evolution.jpg/1200px-Mobile_phone_evolution.jpg\n",
            "[%] File Downloaded !\n",
            "\n",
            "[%] Downloading Image #2 from http://2.bp.blogspot.com/-CBlSk3D4hjQ/Uxnb4qcCBQI/AAAAAAAAQOM/Zm9gC_RR1G4/s1600/latest%2Bmobile%2Bphones%2B(1).png\n",
            "[%] File Downloaded !\n",
            "\n",
            "[%] Downloading Image #3 from https://ae01.alicdn.com/kf/HTB1HZJidtHO8KJjSZFHq6zWJFXaG/Waterproof-cell-phone-RugGear-RG710-GRANDTOUR-Unlocked-5-0inch-Android-smart-phone-4-core-NFC-Dual.jpg\n",
            "[%] File Downloaded !\n",
            "\n",
            "[%] Downloading Image #4 from https://ae01.alicdn.com/kf/HTB1PTQvNFXXXXXlapXXq6xXFXXXR/Original-Waterproof-phone-Mobile-Power-Bank-GSM-Senior-old-man-IP67-Rugged-shockproof-cell-phone-UHF.jpg\n",
            "[%] File Downloaded !\n",
            "\n",
            "[%] Downloading Image #5 from http://i.ytimg.com/vi/L6hjWu30AFU/maxresdefault.jpg\n",
            "[%] File Downloaded !\n",
            "\n",
            "[%] Downloading Image #6 from https://images.techhive.com/images/article/2014/09/cell-samsung-satellite-phone-100429907-orig.jpg\n",
            "[%] File Downloaded !\n",
            "\n",
            "[%] Downloading Image #7 from https://ae01.alicdn.com/kf/HTB1HwXbQVXXXXcFXVXXq6xXFXXXz/Original-SERVO-V8240-Russian-keyboard-unlocked-mobile-cell-Phone-1-77-inch-Dual-SIM-Cards-GPRS.jpg\n",
            "[%] File Downloaded !\n",
            "\n",
            "[%] Downloading Image #8 from https://www.athletico.com/blog2/wp-content/uploads/2012/10/cell-phone.jpg\n",
            "[%] File Downloaded !\n",
            "\n",
            "[%] Downloading Image #9 from https://ae01.alicdn.com/kf/HTB1rZ5GhOqAXuNjy1Xdq6yYcVXaw/1-77-Dual-Sim-FM-radio-bluetooth-loud-speaker-mobile-phone-cheap-china-gsm-Cell-Phones.jpg\n",
            "[%] File Downloaded !\n",
            "\n",
            "[%] Downloading Image #10 from https://upload.wikimedia.org/wikipedia/commons/thumb/3/37/Siemens_S65_AF.jpg/1920px-Siemens_S65_AF.jpg\n",
            "[%] File Downloaded !\n",
            "\n",
            "[%] Downloading Image #11 from http://1.bp.blogspot.com/-qbgpKYJu3x8/UToyTVxkicI/AAAAAAAAAE8/QP3dotSINo0/s1600/Mobile-Phones.jpg\n",
            "[%] File Downloaded !\n",
            "\n",
            "[%] Downloading Image #12 from https://ae01.alicdn.com/kf/HTB1vQbcRVXXXXc1XpXXq6xXFXXX2/Wholesale-1110-Original-Unlocked-Nokia-1110-Mobile-phone-Dualband-Classic-GSM-Refurbished-Cell-phone.jpg\n",
            "[%] File Downloaded !\n",
            "\n",
            "[%] Downloading Image #13 from http://4.bp.blogspot.com/-tIcLFxpspMQ/T1dBTxJknkI/AAAAAAAAINU/_-wBb8MSCfs/s1600/iphone3g.jpg\n",
            "[%] File Downloaded !\n",
            "\n",
            "[%] Downloading Image #14 from https://i.ytimg.com/vi/xnobktms0TM/maxresdefault.jpg\n",
            "[%] File Downloaded !\n",
            "\n",
            "[%] Downloading Image #15 from https://upload.wikimedia.org/wikipedia/commons/1/1b/Nokia1100_new.jpg\n",
            "[%] File Downloaded !\n",
            "\n",
            "[%] Downloading Image #16 from https://ae01.alicdn.com/kf/HTB1y9qzPXXXXXbTXVXXq6xXFXXXb/BLT-V998-flip-dual-touch-screen-Double-two-screen-senior-mobile-phone-vibration-metal-body-Dual.jpg\n",
            "[%] File Downloaded !\n",
            "\n",
            "[%] Downloading Image #17 from https://panamaqblog.files.wordpress.com/2009/11/panama-q-cell-phone1.jpg\n",
            "[%] File Downloaded !\n",
            "\n",
            "[%] Downloading Image #18 from https://upload.wikimedia.org/wikipedia/commons/thumb/2/20/Indoor_location_services_on_mobile_phone_%2810928087126%29.jpg/1200px-Indoor_location_services_on_mobile_phone_%2810928087126%29.jpg\n",
            "[Error]Invalid image, not saving https://upload.wikimedia.org/wikipedia/commons/thumb/2/20/Indoor_location_services_on_mobile_phone_%2810928087126%29.jpg/1200px-Indoor_location_services_on_mobile_phone_%2810928087126%29.jpg\n",
            "\n",
            "[!] Issue getting: https://upload.wikimedia.org/wikipedia/commons/thumb/2/20/Indoor_location_services_on_mobile_phone_%2810928087126%29.jpg/1200px-Indoor_location_services_on_mobile_phone_%2810928087126%29.jpg\n",
            "[!] Error:: No active exception to reraise\n",
            "[%] Downloading Image #18 from https://i.ytimg.com/vi/agTgbf6jFTQ/maxresdefault.jpg\n",
            "[%] File Downloaded !\n",
            "\n",
            "[%] Downloading Image #19 from http://c.shld.net/rpx/i/s/i/spin/10000003/prod_2305916912??hei=64&amp;wid=64&amp;qlt=50\n",
            "[%] File Downloaded !\n",
            "\n",
            "\n",
            "\n",
            "[!!]Indexing page: 2\n",
            "\n",
            "[%] Indexed 35 Images on Page 2.\n",
            "\n",
            "===============================================\n",
            "\n",
            "[%] Downloading Image #20 from https://upload.wikimedia.org/wikipedia/commons/thumb/d/d6/Mobile_phone_evolution.jpg/1200px-Mobile_phone_evolution.jpg\n",
            "[%] File Downloaded !\n",
            "\n",
            "\n",
            "\n",
            "[%] Done. Downloaded 20 images.\n",
            "\n",
            "===============================================\n",
            "\n"
          ],
          "name": "stdout"
        }
      ]
    },
    {
      "cell_type": "code",
      "metadata": {
        "id": "JF7sQYdj67vH",
        "colab_type": "code",
        "colab": {
          "base_uri": "https://localhost:8080/",
          "height": 1000
        },
        "outputId": "5b91d038-8c93-44b5-f7c8-d5282c83b6d7"
      },
      "source": [
        "from bing_image_downloader import downloader\n",
        "downloader.download(\"laptop\",limit=20,output_dir=\"images\")\n",
        "\n"
      ],
      "execution_count": 9,
      "outputs": [
        {
          "output_type": "stream",
          "text": [
            "\n",
            "\n",
            "[!!]Indexing page: 1\n",
            "\n",
            "[%] Indexed 20 Images on Page 1.\n",
            "\n",
            "===============================================\n",
            "\n",
            "[%] Downloading Image #1 from https://i.ytimg.com/vi/tIof7h6Pzjs/maxresdefault.jpg\n",
            "[%] File Downloaded !\n",
            "\n",
            "[%] Downloading Image #2 from https://i.ytimg.com/vi/B8VfDfyx3oM/maxresdefault.jpg\n",
            "[%] File Downloaded !\n",
            "\n",
            "[%] Downloading Image #3 from http://images.tweaktown.com/content/6/5/6539_75_lenovo_thinkpad_w540_mobile_workstation_laptop_review_full.jpg\n",
            "[%] File Downloaded !\n",
            "\n",
            "[%] Downloading Image #4 from https://i.ytimg.com/vi/yBx140GQPnc/maxresdefault.jpg\n",
            "[%] File Downloaded !\n",
            "\n",
            "[%] Downloading Image #5 from https://i.ytimg.com/vi/DdwcGKnaUew/maxresdefault.jpg\n",
            "[%] File Downloaded !\n",
            "\n",
            "[%] Downloading Image #6 from https://icdn3.digitaltrends.com/image/toshiba-p20w-cst3no1-laptop-mainfull1-1200x630-c-ar1.91.jpg?ver=1\n",
            "[%] File Downloaded !\n",
            "\n",
            "[%] Downloading Image #7 from https://i.ytimg.com/vi/8FqKBmwfgTs/maxresdefault.jpg\n",
            "[%] File Downloaded !\n",
            "\n",
            "[%] Downloading Image #8 from https://i.ytimg.com/vi/7QTnMS8Rh6g/maxresdefault.jpg\n",
            "[%] File Downloaded !\n",
            "\n",
            "[%] Downloading Image #9 from https://i.ytimg.com/vi/yq1dD-SQjSA/maxresdefault.jpg\n",
            "[%] File Downloaded !\n",
            "\n",
            "[%] Downloading Image #10 from https://i.ytimg.com/vi/3-kLWUY8Wvc/maxresdefault.jpg\n",
            "[%] File Downloaded !\n",
            "\n",
            "[%] Downloading Image #11 from https://i.ytimg.com/vi/_BKwXCTSpCk/maxresdefault.jpg\n",
            "[%] File Downloaded !\n",
            "\n",
            "[%] Downloading Image #12 from https://i.ytimg.com/vi/h7P02jiuhM8/maxresdefault.jpg\n",
            "[%] File Downloaded !\n",
            "\n",
            "[%] Downloading Image #13 from https://i.ytimg.com/vi/figngAtzyso/hqdefault.jpg\n",
            "[%] File Downloaded !\n",
            "\n",
            "[%] Downloading Image #14 from https://i.ytimg.com/vi/Qt_0-DJAMKo/maxresdefault.jpg\n",
            "[%] File Downloaded !\n",
            "\n",
            "[%] Downloading Image #15 from https://i.ytimg.com/vi/FMIcZLPl134/hqdefault.jpg\n",
            "[%] File Downloaded !\n",
            "\n",
            "[%] Downloading Image #16 from https://i.ytimg.com/vi/mAsp7a5uUQI/maxresdefault.jpg\n",
            "[%] File Downloaded !\n",
            "\n",
            "[%] Downloading Image #17 from http://2.bp.blogspot.com/-sXzLqA8kSQk/TlfkOwF-QfI/AAAAAAAABY4/YFHn9S37Y2I/s1600/asus-ul20a-ultrathin-laptop.jpg\n",
            "[%] File Downloaded !\n",
            "\n",
            "[%] Downloading Image #18 from https://zdnet1.cbsistatic.com/hub/i/r/2016/05/27/0ab7d011-a24c-45a8-a159-5ddd72a111cc/thumbnail/770x578/06ee774f892cf5fff9f354ceebfeca04/acer-aspire-one-cloudbook-main.jpg\n",
            "[%] File Downloaded !\n",
            "\n",
            "[%] Downloading Image #19 from https://zdnet1.cbsistatic.com/hub/i/r/2019/04/17/1f68c3a6-495e-4325-bc16-cc531812f0ec/thumbnail/770x433/84ff4194826e8303efb771cd377a854f/chuwi-herobook-header.jpg\n",
            "[%] File Downloaded !\n",
            "\n",
            "[%] Downloading Image #20 from https://i.ytimg.com/vi/qy6QXdmnEYE/maxresdefault.jpg\n",
            "[%] File Downloaded !\n",
            "\n"
          ],
          "name": "stdout"
        }
      ]
    },
    {
      "cell_type": "code",
      "metadata": {
        "id": "i2Yuy2nL7DqP",
        "colab_type": "code",
        "colab": {
          "base_uri": "https://localhost:8080/",
          "height": 372
        },
        "outputId": "66613329-0077-4760-a6c1-644facdc57a0"
      },
      "source": [
        "import numpy as np\n",
        "import matplotlib.pyplot as plt\n",
        "import pandas as pd\n",
        "import glob\n",
        "from PIL import Image\n",
        "import cv2\n",
        "import os\n",
        "\n",
        "\n",
        "for i in glob.glob(\"/content/drive/My Drive/MLDS/images/images/mobile phone/*jpg\"):\n",
        "  b=cv2.imread(i)\n",
        "  print(b.shape)"
      ],
      "execution_count": 12,
      "outputs": [
        {
          "output_type": "stream",
          "text": [
            "(1800, 1200, 3)\n",
            "(1000, 1000, 3)\n",
            "(1004, 900, 3)\n",
            "(720, 1280, 3)\n",
            "(1682, 2532, 3)\n",
            "(1000, 1000, 3)\n",
            "(1582, 1214, 3)\n",
            "(1000, 1000, 3)\n",
            "(3083, 1920, 3)\n",
            "(1131, 1600, 3)\n",
            "(1000, 1000, 3)\n",
            "(768, 1024, 3)\n",
            "(720, 1280, 3)\n",
            "(1667, 755, 3)\n",
            "(800, 800, 3)\n",
            "(3872, 2592, 3)\n",
            "(720, 1280, 3)\n",
            "(2000, 2000, 3)\n",
            "(1800, 1200, 3)\n"
          ],
          "name": "stdout"
        }
      ]
    },
    {
      "cell_type": "code",
      "metadata": {
        "id": "RWz5moTG7RLP",
        "colab_type": "code",
        "colab": {
          "base_uri": "https://localhost:8080/",
          "height": 73
        },
        "outputId": "f5e9043f-e5eb-4d1a-c8f3-558f5e4325c0"
      },
      "source": [
        "from skimage.io import imread\n",
        "from skimage.transform import resize\n",
        "import numpy as np\n",
        "\n",
        "\n",
        "target = []  \n",
        "flat_data = []   \n",
        "images= []\n",
        "\n",
        "path='/content/drive/My Drive/MLDS/images/images/'\n",
        "for dirpath, dirnames, filenames in os.walk(path):\n",
        "  for filename in filenames:\n",
        "    category = dirpath.split('/')[-1]\n",
        "    target.append(category)\n",
        "    img = imread(f'{path}{category}/{filename}')\n",
        "    img_resized = resize(img,(50,50,3))  \n",
        "    flat_data.append(img_resized.flatten())\n",
        "    images.append(img_resized)\n",
        "\n",
        "flat_data = np.array(flat_data)\n",
        "target = np.array(target)\n",
        "images = np.array(images)\n",
        "\n",
        "print(flat_data.shape)\n",
        "print(target.shape)\n",
        "print(images.shape)"
      ],
      "execution_count": 14,
      "outputs": [
        {
          "output_type": "stream",
          "text": [
            "(40, 7500)\n",
            "(40,)\n",
            "(40, 50, 50, 3)\n"
          ],
          "name": "stdout"
        }
      ]
    },
    {
      "cell_type": "code",
      "metadata": {
        "id": "BhXWY50A9cgH",
        "colab_type": "code",
        "colab": {
          "base_uri": "https://localhost:8080/",
          "height": 185
        },
        "outputId": "81dbfe90-dcba-4ceb-b47a-4649955de25e"
      },
      "source": [
        "target"
      ],
      "execution_count": 15,
      "outputs": [
        {
          "output_type": "execute_result",
          "data": {
            "text/plain": [
              "array(['mobile phone', 'mobile phone', 'mobile phone', 'mobile phone',\n",
              "       'mobile phone', 'mobile phone', 'mobile phone', 'mobile phone',\n",
              "       'mobile phone', 'mobile phone', 'mobile phone', 'mobile phone',\n",
              "       'mobile phone', 'mobile phone', 'mobile phone', 'mobile phone',\n",
              "       'mobile phone', 'mobile phone', 'mobile phone', 'mobile phone',\n",
              "       'laptop', 'laptop', 'laptop', 'laptop', 'laptop', 'laptop',\n",
              "       'laptop', 'laptop', 'laptop', 'laptop', 'laptop', 'laptop',\n",
              "       'laptop', 'laptop', 'laptop', 'laptop', 'laptop', 'laptop',\n",
              "       'laptop', 'laptop'], dtype='<U12')"
            ]
          },
          "metadata": {
            "tags": []
          },
          "execution_count": 15
        }
      ]
    },
    {
      "cell_type": "code",
      "metadata": {
        "id": "fne24yAE95sH",
        "colab_type": "code",
        "colab": {
          "base_uri": "https://localhost:8080/",
          "height": 255
        },
        "outputId": "2005addd-fc59-46d0-d0c7-c40f3b131ec7"
      },
      "source": [
        "import pandas as pd\n",
        "df=pd.DataFrame(flat_data)\n",
        "df.head()"
      ],
      "execution_count": 16,
      "outputs": [
        {
          "output_type": "execute_result",
          "data": {
            "text/html": [
              "<div>\n",
              "<style scoped>\n",
              "    .dataframe tbody tr th:only-of-type {\n",
              "        vertical-align: middle;\n",
              "    }\n",
              "\n",
              "    .dataframe tbody tr th {\n",
              "        vertical-align: top;\n",
              "    }\n",
              "\n",
              "    .dataframe thead th {\n",
              "        text-align: right;\n",
              "    }\n",
              "</style>\n",
              "<table border=\"1\" class=\"dataframe\">\n",
              "  <thead>\n",
              "    <tr style=\"text-align: right;\">\n",
              "      <th></th>\n",
              "      <th>0</th>\n",
              "      <th>1</th>\n",
              "      <th>2</th>\n",
              "      <th>3</th>\n",
              "      <th>4</th>\n",
              "      <th>5</th>\n",
              "      <th>6</th>\n",
              "      <th>7</th>\n",
              "      <th>8</th>\n",
              "      <th>9</th>\n",
              "      <th>10</th>\n",
              "      <th>11</th>\n",
              "      <th>12</th>\n",
              "      <th>13</th>\n",
              "      <th>14</th>\n",
              "      <th>15</th>\n",
              "      <th>16</th>\n",
              "      <th>17</th>\n",
              "      <th>18</th>\n",
              "      <th>19</th>\n",
              "      <th>20</th>\n",
              "      <th>21</th>\n",
              "      <th>22</th>\n",
              "      <th>23</th>\n",
              "      <th>24</th>\n",
              "      <th>25</th>\n",
              "      <th>26</th>\n",
              "      <th>27</th>\n",
              "      <th>28</th>\n",
              "      <th>29</th>\n",
              "      <th>30</th>\n",
              "      <th>31</th>\n",
              "      <th>32</th>\n",
              "      <th>33</th>\n",
              "      <th>34</th>\n",
              "      <th>35</th>\n",
              "      <th>36</th>\n",
              "      <th>37</th>\n",
              "      <th>38</th>\n",
              "      <th>39</th>\n",
              "      <th>...</th>\n",
              "      <th>7460</th>\n",
              "      <th>7461</th>\n",
              "      <th>7462</th>\n",
              "      <th>7463</th>\n",
              "      <th>7464</th>\n",
              "      <th>7465</th>\n",
              "      <th>7466</th>\n",
              "      <th>7467</th>\n",
              "      <th>7468</th>\n",
              "      <th>7469</th>\n",
              "      <th>7470</th>\n",
              "      <th>7471</th>\n",
              "      <th>7472</th>\n",
              "      <th>7473</th>\n",
              "      <th>7474</th>\n",
              "      <th>7475</th>\n",
              "      <th>7476</th>\n",
              "      <th>7477</th>\n",
              "      <th>7478</th>\n",
              "      <th>7479</th>\n",
              "      <th>7480</th>\n",
              "      <th>7481</th>\n",
              "      <th>7482</th>\n",
              "      <th>7483</th>\n",
              "      <th>7484</th>\n",
              "      <th>7485</th>\n",
              "      <th>7486</th>\n",
              "      <th>7487</th>\n",
              "      <th>7488</th>\n",
              "      <th>7489</th>\n",
              "      <th>7490</th>\n",
              "      <th>7491</th>\n",
              "      <th>7492</th>\n",
              "      <th>7493</th>\n",
              "      <th>7494</th>\n",
              "      <th>7495</th>\n",
              "      <th>7496</th>\n",
              "      <th>7497</th>\n",
              "      <th>7498</th>\n",
              "      <th>7499</th>\n",
              "    </tr>\n",
              "  </thead>\n",
              "  <tbody>\n",
              "    <tr>\n",
              "      <th>0</th>\n",
              "      <td>0.992157</td>\n",
              "      <td>0.986275</td>\n",
              "      <td>0.988235</td>\n",
              "      <td>0.988235</td>\n",
              "      <td>0.980392</td>\n",
              "      <td>0.984314</td>\n",
              "      <td>0.984314</td>\n",
              "      <td>0.976471</td>\n",
              "      <td>0.984314</td>\n",
              "      <td>0.988235</td>\n",
              "      <td>0.977451</td>\n",
              "      <td>0.984314</td>\n",
              "      <td>0.984314</td>\n",
              "      <td>0.976471</td>\n",
              "      <td>0.982353</td>\n",
              "      <td>0.858824</td>\n",
              "      <td>0.851961</td>\n",
              "      <td>0.858824</td>\n",
              "      <td>0.734314</td>\n",
              "      <td>0.715686</td>\n",
              "      <td>0.729412</td>\n",
              "      <td>0.929412</td>\n",
              "      <td>0.905882</td>\n",
              "      <td>0.917647</td>\n",
              "      <td>0.972549</td>\n",
              "      <td>0.949020</td>\n",
              "      <td>0.961765</td>\n",
              "      <td>0.984314</td>\n",
              "      <td>0.971569</td>\n",
              "      <td>0.980392</td>\n",
              "      <td>0.992157</td>\n",
              "      <td>0.988235</td>\n",
              "      <td>0.988235</td>\n",
              "      <td>0.992157</td>\n",
              "      <td>0.992157</td>\n",
              "      <td>0.992157</td>\n",
              "      <td>0.996078</td>\n",
              "      <td>0.992157</td>\n",
              "      <td>0.992157</td>\n",
              "      <td>0.996078</td>\n",
              "      <td>...</td>\n",
              "      <td>0.976471</td>\n",
              "      <td>0.972549</td>\n",
              "      <td>0.952941</td>\n",
              "      <td>0.972549</td>\n",
              "      <td>0.972549</td>\n",
              "      <td>0.952941</td>\n",
              "      <td>0.972549</td>\n",
              "      <td>0.972549</td>\n",
              "      <td>0.952941</td>\n",
              "      <td>0.974510</td>\n",
              "      <td>0.972549</td>\n",
              "      <td>0.952941</td>\n",
              "      <td>0.969608</td>\n",
              "      <td>0.964706</td>\n",
              "      <td>0.945098</td>\n",
              "      <td>0.960784</td>\n",
              "      <td>0.956863</td>\n",
              "      <td>0.936275</td>\n",
              "      <td>0.949020</td>\n",
              "      <td>0.866667</td>\n",
              "      <td>0.843137</td>\n",
              "      <td>0.854902</td>\n",
              "      <td>0.742157</td>\n",
              "      <td>0.724510</td>\n",
              "      <td>0.729412</td>\n",
              "      <td>0.701961</td>\n",
              "      <td>0.689216</td>\n",
              "      <td>0.692157</td>\n",
              "      <td>0.692157</td>\n",
              "      <td>0.680392</td>\n",
              "      <td>0.673529</td>\n",
              "      <td>0.685294</td>\n",
              "      <td>0.676471</td>\n",
              "      <td>0.667647</td>\n",
              "      <td>0.796078</td>\n",
              "      <td>0.790196</td>\n",
              "      <td>0.794118</td>\n",
              "      <td>0.963725</td>\n",
              "      <td>0.951961</td>\n",
              "      <td>0.961765</td>\n",
              "    </tr>\n",
              "    <tr>\n",
              "      <th>1</th>\n",
              "      <td>0.000000</td>\n",
              "      <td>0.000000</td>\n",
              "      <td>0.000000</td>\n",
              "      <td>0.000000</td>\n",
              "      <td>0.000000</td>\n",
              "      <td>0.000000</td>\n",
              "      <td>0.000000</td>\n",
              "      <td>0.000000</td>\n",
              "      <td>0.000000</td>\n",
              "      <td>0.000000</td>\n",
              "      <td>0.000000</td>\n",
              "      <td>0.000000</td>\n",
              "      <td>0.000000</td>\n",
              "      <td>0.000000</td>\n",
              "      <td>0.000000</td>\n",
              "      <td>0.000000</td>\n",
              "      <td>0.000000</td>\n",
              "      <td>0.000000</td>\n",
              "      <td>0.000000</td>\n",
              "      <td>0.000000</td>\n",
              "      <td>0.000000</td>\n",
              "      <td>0.000000</td>\n",
              "      <td>0.000000</td>\n",
              "      <td>0.000000</td>\n",
              "      <td>0.000000</td>\n",
              "      <td>0.000000</td>\n",
              "      <td>0.000000</td>\n",
              "      <td>0.000000</td>\n",
              "      <td>0.000000</td>\n",
              "      <td>0.000000</td>\n",
              "      <td>0.000000</td>\n",
              "      <td>0.000000</td>\n",
              "      <td>0.000000</td>\n",
              "      <td>0.000000</td>\n",
              "      <td>0.000000</td>\n",
              "      <td>0.000000</td>\n",
              "      <td>0.000000</td>\n",
              "      <td>0.000000</td>\n",
              "      <td>0.000000</td>\n",
              "      <td>0.000000</td>\n",
              "      <td>...</td>\n",
              "      <td>0.000000</td>\n",
              "      <td>0.000000</td>\n",
              "      <td>0.000000</td>\n",
              "      <td>0.000000</td>\n",
              "      <td>0.000000</td>\n",
              "      <td>0.000000</td>\n",
              "      <td>0.000000</td>\n",
              "      <td>0.000000</td>\n",
              "      <td>0.000000</td>\n",
              "      <td>0.000000</td>\n",
              "      <td>0.000000</td>\n",
              "      <td>0.000000</td>\n",
              "      <td>0.000000</td>\n",
              "      <td>0.000000</td>\n",
              "      <td>0.000000</td>\n",
              "      <td>0.000000</td>\n",
              "      <td>0.000000</td>\n",
              "      <td>0.000000</td>\n",
              "      <td>0.000000</td>\n",
              "      <td>0.000000</td>\n",
              "      <td>0.000000</td>\n",
              "      <td>0.000000</td>\n",
              "      <td>0.000000</td>\n",
              "      <td>0.000000</td>\n",
              "      <td>0.000000</td>\n",
              "      <td>0.000000</td>\n",
              "      <td>0.000000</td>\n",
              "      <td>0.000000</td>\n",
              "      <td>0.000000</td>\n",
              "      <td>0.000000</td>\n",
              "      <td>0.000000</td>\n",
              "      <td>0.000000</td>\n",
              "      <td>0.000000</td>\n",
              "      <td>0.000000</td>\n",
              "      <td>0.000000</td>\n",
              "      <td>0.000000</td>\n",
              "      <td>0.000000</td>\n",
              "      <td>0.000000</td>\n",
              "      <td>0.000000</td>\n",
              "      <td>0.000000</td>\n",
              "    </tr>\n",
              "    <tr>\n",
              "      <th>2</th>\n",
              "      <td>0.996078</td>\n",
              "      <td>0.996078</td>\n",
              "      <td>0.996078</td>\n",
              "      <td>0.996078</td>\n",
              "      <td>0.996078</td>\n",
              "      <td>0.996078</td>\n",
              "      <td>0.996078</td>\n",
              "      <td>0.996078</td>\n",
              "      <td>0.996078</td>\n",
              "      <td>0.994118</td>\n",
              "      <td>0.994118</td>\n",
              "      <td>0.994118</td>\n",
              "      <td>0.992157</td>\n",
              "      <td>0.992157</td>\n",
              "      <td>0.992157</td>\n",
              "      <td>0.992157</td>\n",
              "      <td>0.992157</td>\n",
              "      <td>0.992157</td>\n",
              "      <td>0.992157</td>\n",
              "      <td>0.992157</td>\n",
              "      <td>0.992157</td>\n",
              "      <td>0.992157</td>\n",
              "      <td>0.992157</td>\n",
              "      <td>0.992157</td>\n",
              "      <td>0.992157</td>\n",
              "      <td>0.992157</td>\n",
              "      <td>0.992157</td>\n",
              "      <td>0.992157</td>\n",
              "      <td>0.992157</td>\n",
              "      <td>0.992157</td>\n",
              "      <td>0.996078</td>\n",
              "      <td>0.996078</td>\n",
              "      <td>0.996078</td>\n",
              "      <td>0.996078</td>\n",
              "      <td>0.996078</td>\n",
              "      <td>0.996078</td>\n",
              "      <td>0.996078</td>\n",
              "      <td>0.996078</td>\n",
              "      <td>0.996078</td>\n",
              "      <td>0.996078</td>\n",
              "      <td>...</td>\n",
              "      <td>1.000000</td>\n",
              "      <td>1.000000</td>\n",
              "      <td>1.000000</td>\n",
              "      <td>1.000000</td>\n",
              "      <td>1.000000</td>\n",
              "      <td>1.000000</td>\n",
              "      <td>1.000000</td>\n",
              "      <td>1.000000</td>\n",
              "      <td>1.000000</td>\n",
              "      <td>1.000000</td>\n",
              "      <td>1.000000</td>\n",
              "      <td>1.000000</td>\n",
              "      <td>1.000000</td>\n",
              "      <td>1.000000</td>\n",
              "      <td>1.000000</td>\n",
              "      <td>1.000000</td>\n",
              "      <td>1.000000</td>\n",
              "      <td>1.000000</td>\n",
              "      <td>1.000000</td>\n",
              "      <td>1.000000</td>\n",
              "      <td>1.000000</td>\n",
              "      <td>1.000000</td>\n",
              "      <td>1.000000</td>\n",
              "      <td>1.000000</td>\n",
              "      <td>1.000000</td>\n",
              "      <td>1.000000</td>\n",
              "      <td>1.000000</td>\n",
              "      <td>1.000000</td>\n",
              "      <td>1.000000</td>\n",
              "      <td>1.000000</td>\n",
              "      <td>1.000000</td>\n",
              "      <td>1.000000</td>\n",
              "      <td>1.000000</td>\n",
              "      <td>1.000000</td>\n",
              "      <td>1.000000</td>\n",
              "      <td>1.000000</td>\n",
              "      <td>1.000000</td>\n",
              "      <td>1.000000</td>\n",
              "      <td>1.000000</td>\n",
              "      <td>1.000000</td>\n",
              "    </tr>\n",
              "    <tr>\n",
              "      <th>3</th>\n",
              "      <td>1.000000</td>\n",
              "      <td>1.000000</td>\n",
              "      <td>1.000000</td>\n",
              "      <td>1.000000</td>\n",
              "      <td>1.000000</td>\n",
              "      <td>1.000000</td>\n",
              "      <td>1.000000</td>\n",
              "      <td>1.000000</td>\n",
              "      <td>1.000000</td>\n",
              "      <td>1.000000</td>\n",
              "      <td>1.000000</td>\n",
              "      <td>1.000000</td>\n",
              "      <td>1.000000</td>\n",
              "      <td>1.000000</td>\n",
              "      <td>1.000000</td>\n",
              "      <td>1.000000</td>\n",
              "      <td>1.000000</td>\n",
              "      <td>1.000000</td>\n",
              "      <td>1.000000</td>\n",
              "      <td>1.000000</td>\n",
              "      <td>1.000000</td>\n",
              "      <td>1.000000</td>\n",
              "      <td>1.000000</td>\n",
              "      <td>1.000000</td>\n",
              "      <td>1.000000</td>\n",
              "      <td>1.000000</td>\n",
              "      <td>1.000000</td>\n",
              "      <td>1.000000</td>\n",
              "      <td>1.000000</td>\n",
              "      <td>1.000000</td>\n",
              "      <td>1.000000</td>\n",
              "      <td>1.000000</td>\n",
              "      <td>1.000000</td>\n",
              "      <td>1.000000</td>\n",
              "      <td>1.000000</td>\n",
              "      <td>1.000000</td>\n",
              "      <td>1.000000</td>\n",
              "      <td>1.000000</td>\n",
              "      <td>1.000000</td>\n",
              "      <td>1.000000</td>\n",
              "      <td>...</td>\n",
              "      <td>0.835451</td>\n",
              "      <td>0.891255</td>\n",
              "      <td>0.891255</td>\n",
              "      <td>0.893216</td>\n",
              "      <td>0.936353</td>\n",
              "      <td>0.936353</td>\n",
              "      <td>0.938314</td>\n",
              "      <td>0.965765</td>\n",
              "      <td>0.965765</td>\n",
              "      <td>0.965765</td>\n",
              "      <td>0.983412</td>\n",
              "      <td>0.983412</td>\n",
              "      <td>0.983412</td>\n",
              "      <td>0.992157</td>\n",
              "      <td>0.992157</td>\n",
              "      <td>0.992157</td>\n",
              "      <td>0.996078</td>\n",
              "      <td>0.996078</td>\n",
              "      <td>0.996078</td>\n",
              "      <td>0.996078</td>\n",
              "      <td>0.996078</td>\n",
              "      <td>0.996078</td>\n",
              "      <td>0.996078</td>\n",
              "      <td>0.996078</td>\n",
              "      <td>0.996078</td>\n",
              "      <td>1.000000</td>\n",
              "      <td>1.000000</td>\n",
              "      <td>1.000000</td>\n",
              "      <td>1.000000</td>\n",
              "      <td>1.000000</td>\n",
              "      <td>1.000000</td>\n",
              "      <td>1.000000</td>\n",
              "      <td>1.000000</td>\n",
              "      <td>1.000000</td>\n",
              "      <td>1.000000</td>\n",
              "      <td>1.000000</td>\n",
              "      <td>1.000000</td>\n",
              "      <td>1.000000</td>\n",
              "      <td>1.000000</td>\n",
              "      <td>1.000000</td>\n",
              "    </tr>\n",
              "    <tr>\n",
              "      <th>4</th>\n",
              "      <td>0.949020</td>\n",
              "      <td>0.937255</td>\n",
              "      <td>0.941176</td>\n",
              "      <td>0.949020</td>\n",
              "      <td>0.937255</td>\n",
              "      <td>0.941176</td>\n",
              "      <td>0.949020</td>\n",
              "      <td>0.937255</td>\n",
              "      <td>0.941176</td>\n",
              "      <td>0.949020</td>\n",
              "      <td>0.937255</td>\n",
              "      <td>0.941176</td>\n",
              "      <td>0.949020</td>\n",
              "      <td>0.937255</td>\n",
              "      <td>0.941176</td>\n",
              "      <td>0.949020</td>\n",
              "      <td>0.937255</td>\n",
              "      <td>0.941176</td>\n",
              "      <td>0.949020</td>\n",
              "      <td>0.937255</td>\n",
              "      <td>0.941176</td>\n",
              "      <td>0.949020</td>\n",
              "      <td>0.937255</td>\n",
              "      <td>0.941176</td>\n",
              "      <td>0.949020</td>\n",
              "      <td>0.937255</td>\n",
              "      <td>0.941176</td>\n",
              "      <td>0.949020</td>\n",
              "      <td>0.937255</td>\n",
              "      <td>0.941176</td>\n",
              "      <td>0.949020</td>\n",
              "      <td>0.937255</td>\n",
              "      <td>0.941176</td>\n",
              "      <td>0.949020</td>\n",
              "      <td>0.937255</td>\n",
              "      <td>0.941176</td>\n",
              "      <td>0.949020</td>\n",
              "      <td>0.937255</td>\n",
              "      <td>0.941176</td>\n",
              "      <td>0.949020</td>\n",
              "      <td>...</td>\n",
              "      <td>0.836745</td>\n",
              "      <td>0.810392</td>\n",
              "      <td>0.809020</td>\n",
              "      <td>0.820784</td>\n",
              "      <td>0.915294</td>\n",
              "      <td>0.907725</td>\n",
              "      <td>0.911647</td>\n",
              "      <td>0.958039</td>\n",
              "      <td>0.952941</td>\n",
              "      <td>0.952941</td>\n",
              "      <td>0.945098</td>\n",
              "      <td>0.937255</td>\n",
              "      <td>0.941176</td>\n",
              "      <td>0.923020</td>\n",
              "      <td>0.917647</td>\n",
              "      <td>0.921569</td>\n",
              "      <td>0.905882</td>\n",
              "      <td>0.899216</td>\n",
              "      <td>0.903137</td>\n",
              "      <td>0.957255</td>\n",
              "      <td>0.953333</td>\n",
              "      <td>0.954392</td>\n",
              "      <td>0.992157</td>\n",
              "      <td>0.992157</td>\n",
              "      <td>0.992157</td>\n",
              "      <td>0.993333</td>\n",
              "      <td>0.992157</td>\n",
              "      <td>0.992157</td>\n",
              "      <td>0.996078</td>\n",
              "      <td>0.996078</td>\n",
              "      <td>0.996078</td>\n",
              "      <td>0.996078</td>\n",
              "      <td>0.996078</td>\n",
              "      <td>0.996078</td>\n",
              "      <td>0.996078</td>\n",
              "      <td>0.996078</td>\n",
              "      <td>0.996078</td>\n",
              "      <td>0.996078</td>\n",
              "      <td>0.996078</td>\n",
              "      <td>0.996078</td>\n",
              "    </tr>\n",
              "  </tbody>\n",
              "</table>\n",
              "<p>5 rows × 7500 columns</p>\n",
              "</div>"
            ],
            "text/plain": [
              "       0         1         2     ...      7497      7498      7499\n",
              "0  0.992157  0.986275  0.988235  ...  0.963725  0.951961  0.961765\n",
              "1  0.000000  0.000000  0.000000  ...  0.000000  0.000000  0.000000\n",
              "2  0.996078  0.996078  0.996078  ...  1.000000  1.000000  1.000000\n",
              "3  1.000000  1.000000  1.000000  ...  1.000000  1.000000  1.000000\n",
              "4  0.949020  0.937255  0.941176  ...  0.996078  0.996078  0.996078\n",
              "\n",
              "[5 rows x 7500 columns]"
            ]
          },
          "metadata": {
            "tags": []
          },
          "execution_count": 16
        }
      ]
    },
    {
      "cell_type": "code",
      "metadata": {
        "id": "2SAorJ5U9_K0",
        "colab_type": "code",
        "colab": {
          "base_uri": "https://localhost:8080/",
          "height": 342
        },
        "outputId": "3ce1c8b8-e193-462b-da93-d291257e3256"
      },
      "source": [
        "df['target']=target\n",
        "df.head()"
      ],
      "execution_count": 17,
      "outputs": [
        {
          "output_type": "execute_result",
          "data": {
            "text/html": [
              "<div>\n",
              "<style scoped>\n",
              "    .dataframe tbody tr th:only-of-type {\n",
              "        vertical-align: middle;\n",
              "    }\n",
              "\n",
              "    .dataframe tbody tr th {\n",
              "        vertical-align: top;\n",
              "    }\n",
              "\n",
              "    .dataframe thead th {\n",
              "        text-align: right;\n",
              "    }\n",
              "</style>\n",
              "<table border=\"1\" class=\"dataframe\">\n",
              "  <thead>\n",
              "    <tr style=\"text-align: right;\">\n",
              "      <th></th>\n",
              "      <th>0</th>\n",
              "      <th>1</th>\n",
              "      <th>2</th>\n",
              "      <th>3</th>\n",
              "      <th>4</th>\n",
              "      <th>5</th>\n",
              "      <th>6</th>\n",
              "      <th>7</th>\n",
              "      <th>8</th>\n",
              "      <th>9</th>\n",
              "      <th>10</th>\n",
              "      <th>11</th>\n",
              "      <th>12</th>\n",
              "      <th>13</th>\n",
              "      <th>14</th>\n",
              "      <th>15</th>\n",
              "      <th>16</th>\n",
              "      <th>17</th>\n",
              "      <th>18</th>\n",
              "      <th>19</th>\n",
              "      <th>20</th>\n",
              "      <th>21</th>\n",
              "      <th>22</th>\n",
              "      <th>23</th>\n",
              "      <th>24</th>\n",
              "      <th>25</th>\n",
              "      <th>26</th>\n",
              "      <th>27</th>\n",
              "      <th>28</th>\n",
              "      <th>29</th>\n",
              "      <th>30</th>\n",
              "      <th>31</th>\n",
              "      <th>32</th>\n",
              "      <th>33</th>\n",
              "      <th>34</th>\n",
              "      <th>35</th>\n",
              "      <th>36</th>\n",
              "      <th>37</th>\n",
              "      <th>38</th>\n",
              "      <th>39</th>\n",
              "      <th>...</th>\n",
              "      <th>7461</th>\n",
              "      <th>7462</th>\n",
              "      <th>7463</th>\n",
              "      <th>7464</th>\n",
              "      <th>7465</th>\n",
              "      <th>7466</th>\n",
              "      <th>7467</th>\n",
              "      <th>7468</th>\n",
              "      <th>7469</th>\n",
              "      <th>7470</th>\n",
              "      <th>7471</th>\n",
              "      <th>7472</th>\n",
              "      <th>7473</th>\n",
              "      <th>7474</th>\n",
              "      <th>7475</th>\n",
              "      <th>7476</th>\n",
              "      <th>7477</th>\n",
              "      <th>7478</th>\n",
              "      <th>7479</th>\n",
              "      <th>7480</th>\n",
              "      <th>7481</th>\n",
              "      <th>7482</th>\n",
              "      <th>7483</th>\n",
              "      <th>7484</th>\n",
              "      <th>7485</th>\n",
              "      <th>7486</th>\n",
              "      <th>7487</th>\n",
              "      <th>7488</th>\n",
              "      <th>7489</th>\n",
              "      <th>7490</th>\n",
              "      <th>7491</th>\n",
              "      <th>7492</th>\n",
              "      <th>7493</th>\n",
              "      <th>7494</th>\n",
              "      <th>7495</th>\n",
              "      <th>7496</th>\n",
              "      <th>7497</th>\n",
              "      <th>7498</th>\n",
              "      <th>7499</th>\n",
              "      <th>target</th>\n",
              "    </tr>\n",
              "  </thead>\n",
              "  <tbody>\n",
              "    <tr>\n",
              "      <th>0</th>\n",
              "      <td>0.992157</td>\n",
              "      <td>0.986275</td>\n",
              "      <td>0.988235</td>\n",
              "      <td>0.988235</td>\n",
              "      <td>0.980392</td>\n",
              "      <td>0.984314</td>\n",
              "      <td>0.984314</td>\n",
              "      <td>0.976471</td>\n",
              "      <td>0.984314</td>\n",
              "      <td>0.988235</td>\n",
              "      <td>0.977451</td>\n",
              "      <td>0.984314</td>\n",
              "      <td>0.984314</td>\n",
              "      <td>0.976471</td>\n",
              "      <td>0.982353</td>\n",
              "      <td>0.858824</td>\n",
              "      <td>0.851961</td>\n",
              "      <td>0.858824</td>\n",
              "      <td>0.734314</td>\n",
              "      <td>0.715686</td>\n",
              "      <td>0.729412</td>\n",
              "      <td>0.929412</td>\n",
              "      <td>0.905882</td>\n",
              "      <td>0.917647</td>\n",
              "      <td>0.972549</td>\n",
              "      <td>0.949020</td>\n",
              "      <td>0.961765</td>\n",
              "      <td>0.984314</td>\n",
              "      <td>0.971569</td>\n",
              "      <td>0.980392</td>\n",
              "      <td>0.992157</td>\n",
              "      <td>0.988235</td>\n",
              "      <td>0.988235</td>\n",
              "      <td>0.992157</td>\n",
              "      <td>0.992157</td>\n",
              "      <td>0.992157</td>\n",
              "      <td>0.996078</td>\n",
              "      <td>0.992157</td>\n",
              "      <td>0.992157</td>\n",
              "      <td>0.996078</td>\n",
              "      <td>...</td>\n",
              "      <td>0.972549</td>\n",
              "      <td>0.952941</td>\n",
              "      <td>0.972549</td>\n",
              "      <td>0.972549</td>\n",
              "      <td>0.952941</td>\n",
              "      <td>0.972549</td>\n",
              "      <td>0.972549</td>\n",
              "      <td>0.952941</td>\n",
              "      <td>0.974510</td>\n",
              "      <td>0.972549</td>\n",
              "      <td>0.952941</td>\n",
              "      <td>0.969608</td>\n",
              "      <td>0.964706</td>\n",
              "      <td>0.945098</td>\n",
              "      <td>0.960784</td>\n",
              "      <td>0.956863</td>\n",
              "      <td>0.936275</td>\n",
              "      <td>0.949020</td>\n",
              "      <td>0.866667</td>\n",
              "      <td>0.843137</td>\n",
              "      <td>0.854902</td>\n",
              "      <td>0.742157</td>\n",
              "      <td>0.724510</td>\n",
              "      <td>0.729412</td>\n",
              "      <td>0.701961</td>\n",
              "      <td>0.689216</td>\n",
              "      <td>0.692157</td>\n",
              "      <td>0.692157</td>\n",
              "      <td>0.680392</td>\n",
              "      <td>0.673529</td>\n",
              "      <td>0.685294</td>\n",
              "      <td>0.676471</td>\n",
              "      <td>0.667647</td>\n",
              "      <td>0.796078</td>\n",
              "      <td>0.790196</td>\n",
              "      <td>0.794118</td>\n",
              "      <td>0.963725</td>\n",
              "      <td>0.951961</td>\n",
              "      <td>0.961765</td>\n",
              "      <td>mobile phone</td>\n",
              "    </tr>\n",
              "    <tr>\n",
              "      <th>1</th>\n",
              "      <td>0.000000</td>\n",
              "      <td>0.000000</td>\n",
              "      <td>0.000000</td>\n",
              "      <td>0.000000</td>\n",
              "      <td>0.000000</td>\n",
              "      <td>0.000000</td>\n",
              "      <td>0.000000</td>\n",
              "      <td>0.000000</td>\n",
              "      <td>0.000000</td>\n",
              "      <td>0.000000</td>\n",
              "      <td>0.000000</td>\n",
              "      <td>0.000000</td>\n",
              "      <td>0.000000</td>\n",
              "      <td>0.000000</td>\n",
              "      <td>0.000000</td>\n",
              "      <td>0.000000</td>\n",
              "      <td>0.000000</td>\n",
              "      <td>0.000000</td>\n",
              "      <td>0.000000</td>\n",
              "      <td>0.000000</td>\n",
              "      <td>0.000000</td>\n",
              "      <td>0.000000</td>\n",
              "      <td>0.000000</td>\n",
              "      <td>0.000000</td>\n",
              "      <td>0.000000</td>\n",
              "      <td>0.000000</td>\n",
              "      <td>0.000000</td>\n",
              "      <td>0.000000</td>\n",
              "      <td>0.000000</td>\n",
              "      <td>0.000000</td>\n",
              "      <td>0.000000</td>\n",
              "      <td>0.000000</td>\n",
              "      <td>0.000000</td>\n",
              "      <td>0.000000</td>\n",
              "      <td>0.000000</td>\n",
              "      <td>0.000000</td>\n",
              "      <td>0.000000</td>\n",
              "      <td>0.000000</td>\n",
              "      <td>0.000000</td>\n",
              "      <td>0.000000</td>\n",
              "      <td>...</td>\n",
              "      <td>0.000000</td>\n",
              "      <td>0.000000</td>\n",
              "      <td>0.000000</td>\n",
              "      <td>0.000000</td>\n",
              "      <td>0.000000</td>\n",
              "      <td>0.000000</td>\n",
              "      <td>0.000000</td>\n",
              "      <td>0.000000</td>\n",
              "      <td>0.000000</td>\n",
              "      <td>0.000000</td>\n",
              "      <td>0.000000</td>\n",
              "      <td>0.000000</td>\n",
              "      <td>0.000000</td>\n",
              "      <td>0.000000</td>\n",
              "      <td>0.000000</td>\n",
              "      <td>0.000000</td>\n",
              "      <td>0.000000</td>\n",
              "      <td>0.000000</td>\n",
              "      <td>0.000000</td>\n",
              "      <td>0.000000</td>\n",
              "      <td>0.000000</td>\n",
              "      <td>0.000000</td>\n",
              "      <td>0.000000</td>\n",
              "      <td>0.000000</td>\n",
              "      <td>0.000000</td>\n",
              "      <td>0.000000</td>\n",
              "      <td>0.000000</td>\n",
              "      <td>0.000000</td>\n",
              "      <td>0.000000</td>\n",
              "      <td>0.000000</td>\n",
              "      <td>0.000000</td>\n",
              "      <td>0.000000</td>\n",
              "      <td>0.000000</td>\n",
              "      <td>0.000000</td>\n",
              "      <td>0.000000</td>\n",
              "      <td>0.000000</td>\n",
              "      <td>0.000000</td>\n",
              "      <td>0.000000</td>\n",
              "      <td>0.000000</td>\n",
              "      <td>mobile phone</td>\n",
              "    </tr>\n",
              "    <tr>\n",
              "      <th>2</th>\n",
              "      <td>0.996078</td>\n",
              "      <td>0.996078</td>\n",
              "      <td>0.996078</td>\n",
              "      <td>0.996078</td>\n",
              "      <td>0.996078</td>\n",
              "      <td>0.996078</td>\n",
              "      <td>0.996078</td>\n",
              "      <td>0.996078</td>\n",
              "      <td>0.996078</td>\n",
              "      <td>0.994118</td>\n",
              "      <td>0.994118</td>\n",
              "      <td>0.994118</td>\n",
              "      <td>0.992157</td>\n",
              "      <td>0.992157</td>\n",
              "      <td>0.992157</td>\n",
              "      <td>0.992157</td>\n",
              "      <td>0.992157</td>\n",
              "      <td>0.992157</td>\n",
              "      <td>0.992157</td>\n",
              "      <td>0.992157</td>\n",
              "      <td>0.992157</td>\n",
              "      <td>0.992157</td>\n",
              "      <td>0.992157</td>\n",
              "      <td>0.992157</td>\n",
              "      <td>0.992157</td>\n",
              "      <td>0.992157</td>\n",
              "      <td>0.992157</td>\n",
              "      <td>0.992157</td>\n",
              "      <td>0.992157</td>\n",
              "      <td>0.992157</td>\n",
              "      <td>0.996078</td>\n",
              "      <td>0.996078</td>\n",
              "      <td>0.996078</td>\n",
              "      <td>0.996078</td>\n",
              "      <td>0.996078</td>\n",
              "      <td>0.996078</td>\n",
              "      <td>0.996078</td>\n",
              "      <td>0.996078</td>\n",
              "      <td>0.996078</td>\n",
              "      <td>0.996078</td>\n",
              "      <td>...</td>\n",
              "      <td>1.000000</td>\n",
              "      <td>1.000000</td>\n",
              "      <td>1.000000</td>\n",
              "      <td>1.000000</td>\n",
              "      <td>1.000000</td>\n",
              "      <td>1.000000</td>\n",
              "      <td>1.000000</td>\n",
              "      <td>1.000000</td>\n",
              "      <td>1.000000</td>\n",
              "      <td>1.000000</td>\n",
              "      <td>1.000000</td>\n",
              "      <td>1.000000</td>\n",
              "      <td>1.000000</td>\n",
              "      <td>1.000000</td>\n",
              "      <td>1.000000</td>\n",
              "      <td>1.000000</td>\n",
              "      <td>1.000000</td>\n",
              "      <td>1.000000</td>\n",
              "      <td>1.000000</td>\n",
              "      <td>1.000000</td>\n",
              "      <td>1.000000</td>\n",
              "      <td>1.000000</td>\n",
              "      <td>1.000000</td>\n",
              "      <td>1.000000</td>\n",
              "      <td>1.000000</td>\n",
              "      <td>1.000000</td>\n",
              "      <td>1.000000</td>\n",
              "      <td>1.000000</td>\n",
              "      <td>1.000000</td>\n",
              "      <td>1.000000</td>\n",
              "      <td>1.000000</td>\n",
              "      <td>1.000000</td>\n",
              "      <td>1.000000</td>\n",
              "      <td>1.000000</td>\n",
              "      <td>1.000000</td>\n",
              "      <td>1.000000</td>\n",
              "      <td>1.000000</td>\n",
              "      <td>1.000000</td>\n",
              "      <td>1.000000</td>\n",
              "      <td>mobile phone</td>\n",
              "    </tr>\n",
              "    <tr>\n",
              "      <th>3</th>\n",
              "      <td>1.000000</td>\n",
              "      <td>1.000000</td>\n",
              "      <td>1.000000</td>\n",
              "      <td>1.000000</td>\n",
              "      <td>1.000000</td>\n",
              "      <td>1.000000</td>\n",
              "      <td>1.000000</td>\n",
              "      <td>1.000000</td>\n",
              "      <td>1.000000</td>\n",
              "      <td>1.000000</td>\n",
              "      <td>1.000000</td>\n",
              "      <td>1.000000</td>\n",
              "      <td>1.000000</td>\n",
              "      <td>1.000000</td>\n",
              "      <td>1.000000</td>\n",
              "      <td>1.000000</td>\n",
              "      <td>1.000000</td>\n",
              "      <td>1.000000</td>\n",
              "      <td>1.000000</td>\n",
              "      <td>1.000000</td>\n",
              "      <td>1.000000</td>\n",
              "      <td>1.000000</td>\n",
              "      <td>1.000000</td>\n",
              "      <td>1.000000</td>\n",
              "      <td>1.000000</td>\n",
              "      <td>1.000000</td>\n",
              "      <td>1.000000</td>\n",
              "      <td>1.000000</td>\n",
              "      <td>1.000000</td>\n",
              "      <td>1.000000</td>\n",
              "      <td>1.000000</td>\n",
              "      <td>1.000000</td>\n",
              "      <td>1.000000</td>\n",
              "      <td>1.000000</td>\n",
              "      <td>1.000000</td>\n",
              "      <td>1.000000</td>\n",
              "      <td>1.000000</td>\n",
              "      <td>1.000000</td>\n",
              "      <td>1.000000</td>\n",
              "      <td>1.000000</td>\n",
              "      <td>...</td>\n",
              "      <td>0.891255</td>\n",
              "      <td>0.891255</td>\n",
              "      <td>0.893216</td>\n",
              "      <td>0.936353</td>\n",
              "      <td>0.936353</td>\n",
              "      <td>0.938314</td>\n",
              "      <td>0.965765</td>\n",
              "      <td>0.965765</td>\n",
              "      <td>0.965765</td>\n",
              "      <td>0.983412</td>\n",
              "      <td>0.983412</td>\n",
              "      <td>0.983412</td>\n",
              "      <td>0.992157</td>\n",
              "      <td>0.992157</td>\n",
              "      <td>0.992157</td>\n",
              "      <td>0.996078</td>\n",
              "      <td>0.996078</td>\n",
              "      <td>0.996078</td>\n",
              "      <td>0.996078</td>\n",
              "      <td>0.996078</td>\n",
              "      <td>0.996078</td>\n",
              "      <td>0.996078</td>\n",
              "      <td>0.996078</td>\n",
              "      <td>0.996078</td>\n",
              "      <td>1.000000</td>\n",
              "      <td>1.000000</td>\n",
              "      <td>1.000000</td>\n",
              "      <td>1.000000</td>\n",
              "      <td>1.000000</td>\n",
              "      <td>1.000000</td>\n",
              "      <td>1.000000</td>\n",
              "      <td>1.000000</td>\n",
              "      <td>1.000000</td>\n",
              "      <td>1.000000</td>\n",
              "      <td>1.000000</td>\n",
              "      <td>1.000000</td>\n",
              "      <td>1.000000</td>\n",
              "      <td>1.000000</td>\n",
              "      <td>1.000000</td>\n",
              "      <td>mobile phone</td>\n",
              "    </tr>\n",
              "    <tr>\n",
              "      <th>4</th>\n",
              "      <td>0.949020</td>\n",
              "      <td>0.937255</td>\n",
              "      <td>0.941176</td>\n",
              "      <td>0.949020</td>\n",
              "      <td>0.937255</td>\n",
              "      <td>0.941176</td>\n",
              "      <td>0.949020</td>\n",
              "      <td>0.937255</td>\n",
              "      <td>0.941176</td>\n",
              "      <td>0.949020</td>\n",
              "      <td>0.937255</td>\n",
              "      <td>0.941176</td>\n",
              "      <td>0.949020</td>\n",
              "      <td>0.937255</td>\n",
              "      <td>0.941176</td>\n",
              "      <td>0.949020</td>\n",
              "      <td>0.937255</td>\n",
              "      <td>0.941176</td>\n",
              "      <td>0.949020</td>\n",
              "      <td>0.937255</td>\n",
              "      <td>0.941176</td>\n",
              "      <td>0.949020</td>\n",
              "      <td>0.937255</td>\n",
              "      <td>0.941176</td>\n",
              "      <td>0.949020</td>\n",
              "      <td>0.937255</td>\n",
              "      <td>0.941176</td>\n",
              "      <td>0.949020</td>\n",
              "      <td>0.937255</td>\n",
              "      <td>0.941176</td>\n",
              "      <td>0.949020</td>\n",
              "      <td>0.937255</td>\n",
              "      <td>0.941176</td>\n",
              "      <td>0.949020</td>\n",
              "      <td>0.937255</td>\n",
              "      <td>0.941176</td>\n",
              "      <td>0.949020</td>\n",
              "      <td>0.937255</td>\n",
              "      <td>0.941176</td>\n",
              "      <td>0.949020</td>\n",
              "      <td>...</td>\n",
              "      <td>0.810392</td>\n",
              "      <td>0.809020</td>\n",
              "      <td>0.820784</td>\n",
              "      <td>0.915294</td>\n",
              "      <td>0.907725</td>\n",
              "      <td>0.911647</td>\n",
              "      <td>0.958039</td>\n",
              "      <td>0.952941</td>\n",
              "      <td>0.952941</td>\n",
              "      <td>0.945098</td>\n",
              "      <td>0.937255</td>\n",
              "      <td>0.941176</td>\n",
              "      <td>0.923020</td>\n",
              "      <td>0.917647</td>\n",
              "      <td>0.921569</td>\n",
              "      <td>0.905882</td>\n",
              "      <td>0.899216</td>\n",
              "      <td>0.903137</td>\n",
              "      <td>0.957255</td>\n",
              "      <td>0.953333</td>\n",
              "      <td>0.954392</td>\n",
              "      <td>0.992157</td>\n",
              "      <td>0.992157</td>\n",
              "      <td>0.992157</td>\n",
              "      <td>0.993333</td>\n",
              "      <td>0.992157</td>\n",
              "      <td>0.992157</td>\n",
              "      <td>0.996078</td>\n",
              "      <td>0.996078</td>\n",
              "      <td>0.996078</td>\n",
              "      <td>0.996078</td>\n",
              "      <td>0.996078</td>\n",
              "      <td>0.996078</td>\n",
              "      <td>0.996078</td>\n",
              "      <td>0.996078</td>\n",
              "      <td>0.996078</td>\n",
              "      <td>0.996078</td>\n",
              "      <td>0.996078</td>\n",
              "      <td>0.996078</td>\n",
              "      <td>mobile phone</td>\n",
              "    </tr>\n",
              "  </tbody>\n",
              "</table>\n",
              "<p>5 rows × 7501 columns</p>\n",
              "</div>"
            ],
            "text/plain": [
              "          0         1         2  ...      7498      7499        target\n",
              "0  0.992157  0.986275  0.988235  ...  0.951961  0.961765  mobile phone\n",
              "1  0.000000  0.000000  0.000000  ...  0.000000  0.000000  mobile phone\n",
              "2  0.996078  0.996078  0.996078  ...  1.000000  1.000000  mobile phone\n",
              "3  1.000000  1.000000  1.000000  ...  1.000000  1.000000  mobile phone\n",
              "4  0.949020  0.937255  0.941176  ...  0.996078  0.996078  mobile phone\n",
              "\n",
              "[5 rows x 7501 columns]"
            ]
          },
          "metadata": {
            "tags": []
          },
          "execution_count": 17
        }
      ]
    },
    {
      "cell_type": "code",
      "metadata": {
        "id": "NdfrK7LX-EE2",
        "colab_type": "code",
        "colab": {}
      },
      "source": [
        "x=df.drop(columns=['target'])\n",
        "y=df['target']"
      ],
      "execution_count": 18,
      "outputs": []
    },
    {
      "cell_type": "code",
      "metadata": {
        "id": "-sofV09m-IP1",
        "colab_type": "code",
        "colab": {
          "base_uri": "https://localhost:8080/",
          "height": 36
        },
        "outputId": "a25a1388-afa3-4ce1-a163-d210b27cec9e"
      },
      "source": [
        "from sklearn.model_selection import train_test_split\n",
        "x_train,x_test,y_train,y_test=train_test_split(x,y,random_state=0)\n",
        "x_train.shape,x_test.shape,y_train.shape,y_test.shape"
      ],
      "execution_count": 19,
      "outputs": [
        {
          "output_type": "execute_result",
          "data": {
            "text/plain": [
              "((30, 7500), (10, 7500), (30,), (10,))"
            ]
          },
          "metadata": {
            "tags": []
          },
          "execution_count": 19
        }
      ]
    },
    {
      "cell_type": "code",
      "metadata": {
        "id": "lz_gXZz5-MVv",
        "colab_type": "code",
        "colab": {
          "base_uri": "https://localhost:8080/",
          "height": 223
        },
        "outputId": "dc34f1bb-399f-49f0-88ca-18c3dda958fb"
      },
      "source": [
        "y_test"
      ],
      "execution_count": 20,
      "outputs": [
        {
          "output_type": "execute_result",
          "data": {
            "text/plain": [
              "22          laptop\n",
              "20          laptop\n",
              "25          laptop\n",
              "4     mobile phone\n",
              "10    mobile phone\n",
              "15    mobile phone\n",
              "28          laptop\n",
              "11    mobile phone\n",
              "18    mobile phone\n",
              "29          laptop\n",
              "Name: target, dtype: object"
            ]
          },
          "metadata": {
            "tags": []
          },
          "execution_count": 20
        }
      ]
    },
    {
      "cell_type": "code",
      "metadata": {
        "id": "fSAqLX8l-P6h",
        "colab_type": "code",
        "colab": {
          "base_uri": "https://localhost:8080/",
          "height": 73
        },
        "outputId": "a057f536-d1d7-42d6-98ce-48a8af73e8d6"
      },
      "source": [
        "from sklearn.neighbors import KNeighborsClassifier\n",
        "model=KNeighborsClassifier(n_neighbors=6)\n",
        "model.fit(x_train,y_train)\n",
        "pred=model.predict(x_test)\n",
        "pred"
      ],
      "execution_count": 21,
      "outputs": [
        {
          "output_type": "execute_result",
          "data": {
            "text/plain": [
              "array(['laptop', 'laptop', 'laptop', 'laptop', 'laptop', 'mobile phone',\n",
              "       'laptop', 'mobile phone', 'mobile phone', 'mobile phone'],\n",
              "      dtype=object)"
            ]
          },
          "metadata": {
            "tags": []
          },
          "execution_count": 21
        }
      ]
    },
    {
      "cell_type": "code",
      "metadata": {
        "id": "zuzScF9l-U9g",
        "colab_type": "code",
        "colab": {
          "base_uri": "https://localhost:8080/",
          "height": 73
        },
        "outputId": "0a518842-56ef-44a7-c844-2fa76d2d4644"
      },
      "source": [
        "import numpy as np\n",
        "a=np.array(y_test)\n",
        "a"
      ],
      "execution_count": 22,
      "outputs": [
        {
          "output_type": "execute_result",
          "data": {
            "text/plain": [
              "array(['laptop', 'laptop', 'laptop', 'mobile phone', 'mobile phone',\n",
              "       'mobile phone', 'laptop', 'mobile phone', 'mobile phone', 'laptop'],\n",
              "      dtype=object)"
            ]
          },
          "metadata": {
            "tags": []
          },
          "execution_count": 22
        }
      ]
    },
    {
      "cell_type": "code",
      "metadata": {
        "id": "D9v0nsUB-Yzz",
        "colab_type": "code",
        "colab": {
          "base_uri": "https://localhost:8080/",
          "height": 223
        },
        "outputId": "470155e2-3f5e-4248-fccc-8ed918e137e4"
      },
      "source": [
        "y_test"
      ],
      "execution_count": 23,
      "outputs": [
        {
          "output_type": "execute_result",
          "data": {
            "text/plain": [
              "22          laptop\n",
              "20          laptop\n",
              "25          laptop\n",
              "4     mobile phone\n",
              "10    mobile phone\n",
              "15    mobile phone\n",
              "28          laptop\n",
              "11    mobile phone\n",
              "18    mobile phone\n",
              "29          laptop\n",
              "Name: target, dtype: object"
            ]
          },
          "metadata": {
            "tags": []
          },
          "execution_count": 23
        }
      ]
    },
    {
      "cell_type": "code",
      "metadata": {
        "id": "ifVI4-i1-cRF",
        "colab_type": "code",
        "colab": {
          "base_uri": "https://localhost:8080/",
          "height": 223
        },
        "outputId": "05d8a8dc-36d6-4c66-a1c2-31d347641272"
      },
      "source": [
        "from sklearn.metrics import classification_report,confusion_matrix\n",
        "print(classification_report(y_test,pred))\n",
        "print(confusion_matrix(y_test,pred))"
      ],
      "execution_count": 24,
      "outputs": [
        {
          "output_type": "stream",
          "text": [
            "              precision    recall  f1-score   support\n",
            "\n",
            "      laptop       0.67      0.80      0.73         5\n",
            "mobile phone       0.75      0.60      0.67         5\n",
            "\n",
            "    accuracy                           0.70        10\n",
            "   macro avg       0.71      0.70      0.70        10\n",
            "weighted avg       0.71      0.70      0.70        10\n",
            "\n",
            "[[4 1]\n",
            " [2 3]]\n"
          ],
          "name": "stdout"
        }
      ]
    },
    {
      "cell_type": "code",
      "metadata": {
        "id": "TXQzkcl_-gCh",
        "colab_type": "code",
        "colab": {
          "base_uri": "https://localhost:8080/",
          "height": 54
        },
        "outputId": "65b0e976-22dd-4ed5-eb84-395da21c60f6"
      },
      "source": [
        "z = np.arange(1,25)\n",
        "z"
      ],
      "execution_count": 25,
      "outputs": [
        {
          "output_type": "execute_result",
          "data": {
            "text/plain": [
              "array([ 1,  2,  3,  4,  5,  6,  7,  8,  9, 10, 11, 12, 13, 14, 15, 16, 17,\n",
              "       18, 19, 20, 21, 22, 23, 24])"
            ]
          },
          "metadata": {
            "tags": []
          },
          "execution_count": 25
        }
      ]
    },
    {
      "cell_type": "code",
      "metadata": {
        "id": "yzErmqDC-kiT",
        "colab_type": "code",
        "colab": {
          "base_uri": "https://localhost:8080/",
          "height": 243
        },
        "outputId": "725eaacb-32a6-45f4-c8b2-718667a4f216"
      },
      "source": [
        "from sklearn.model_selection import GridSearchCV\n",
        "param={'n_neighbors':z}   \n",
        "model = KNeighborsClassifier()\n",
        "model_grid = GridSearchCV(model,param)   \n",
        "model_grid.fit(x_train,y_train)"
      ],
      "execution_count": 26,
      "outputs": [
        {
          "output_type": "execute_result",
          "data": {
            "text/plain": [
              "GridSearchCV(cv=None, error_score=nan,\n",
              "             estimator=KNeighborsClassifier(algorithm='auto', leaf_size=30,\n",
              "                                            metric='minkowski',\n",
              "                                            metric_params=None, n_jobs=None,\n",
              "                                            n_neighbors=5, p=2,\n",
              "                                            weights='uniform'),\n",
              "             iid='deprecated', n_jobs=None,\n",
              "             param_grid={'n_neighbors': array([ 1,  2,  3,  4,  5,  6,  7,  8,  9, 10, 11, 12, 13, 14, 15, 16, 17,\n",
              "       18, 19, 20, 21, 22, 23, 24])},\n",
              "             pre_dispatch='2*n_jobs', refit=True, return_train_score=False,\n",
              "             scoring=None, verbose=0)"
            ]
          },
          "metadata": {
            "tags": []
          },
          "execution_count": 26
        }
      ]
    },
    {
      "cell_type": "code",
      "metadata": {
        "id": "ghjDcxay-rJj",
        "colab_type": "code",
        "colab": {
          "base_uri": "https://localhost:8080/",
          "height": 36
        },
        "outputId": "09e709e6-b522-4467-9c91-dc64c84e738c"
      },
      "source": [
        "model_grid.best_params_"
      ],
      "execution_count": 27,
      "outputs": [
        {
          "output_type": "execute_result",
          "data": {
            "text/plain": [
              "{'n_neighbors': 11}"
            ]
          },
          "metadata": {
            "tags": []
          },
          "execution_count": 27
        }
      ]
    },
    {
      "cell_type": "code",
      "metadata": {
        "id": "L09oHYnw-yxL",
        "colab_type": "code",
        "colab": {
          "base_uri": "https://localhost:8080/",
          "height": 73
        },
        "outputId": "5e1a5337-fa37-4551-fc6e-12a29efc2361"
      },
      "source": [
        "from sklearn.neighbors import KNeighborsClassifier\n",
        "model=KNeighborsClassifier(n_neighbors=8)\n",
        "model.fit(x_train,y_train)\n",
        "pred=model.predict(x_test)\n",
        "pred"
      ],
      "execution_count": 28,
      "outputs": [
        {
          "output_type": "execute_result",
          "data": {
            "text/plain": [
              "array(['laptop', 'laptop', 'laptop', 'laptop', 'mobile phone', 'laptop',\n",
              "       'laptop', 'mobile phone', 'mobile phone', 'mobile phone'],\n",
              "      dtype=object)"
            ]
          },
          "metadata": {
            "tags": []
          },
          "execution_count": 28
        }
      ]
    },
    {
      "cell_type": "code",
      "metadata": {
        "id": "YslYGPFb-2CG",
        "colab_type": "code",
        "colab": {
          "base_uri": "https://localhost:8080/",
          "height": 223
        },
        "outputId": "d5982412-4fca-43a7-bd57-53854d8ffe97"
      },
      "source": [
        "from sklearn.metrics import classification_report,confusion_matrix\n",
        "print(classification_report(y_test,pred))\n",
        "print(confusion_matrix(y_test,pred))"
      ],
      "execution_count": 29,
      "outputs": [
        {
          "output_type": "stream",
          "text": [
            "              precision    recall  f1-score   support\n",
            "\n",
            "      laptop       0.67      0.80      0.73         5\n",
            "mobile phone       0.75      0.60      0.67         5\n",
            "\n",
            "    accuracy                           0.70        10\n",
            "   macro avg       0.71      0.70      0.70        10\n",
            "weighted avg       0.71      0.70      0.70        10\n",
            "\n",
            "[[4 1]\n",
            " [2 3]]\n"
          ],
          "name": "stdout"
        }
      ]
    },
    {
      "cell_type": "code",
      "metadata": {
        "id": "Fv4pRZkQ-7TL",
        "colab_type": "code",
        "colab": {
          "base_uri": "https://localhost:8080/",
          "height": 73
        },
        "outputId": "8d1d337a-e363-4fac-81de-36b596ab0233"
      },
      "source": [
        "from sklearn.linear_model import LogisticRegression as LR\n",
        "m=LR(class_weight='balanced')\n",
        "m.fit(x_train,y_train)\n",
        "pred=m.predict(x_test)\n",
        "pred"
      ],
      "execution_count": 30,
      "outputs": [
        {
          "output_type": "execute_result",
          "data": {
            "text/plain": [
              "array(['mobile phone', 'laptop', 'laptop', 'mobile phone', 'mobile phone',\n",
              "       'mobile phone', 'laptop', 'mobile phone', 'mobile phone',\n",
              "       'mobile phone'], dtype=object)"
            ]
          },
          "metadata": {
            "tags": []
          },
          "execution_count": 30
        }
      ]
    },
    {
      "cell_type": "code",
      "metadata": {
        "id": "M50V0q5h-_sI",
        "colab_type": "code",
        "colab": {
          "base_uri": "https://localhost:8080/",
          "height": 73
        },
        "outputId": "911cd316-a621-4c11-87d5-97ab2fa9642e"
      },
      "source": [
        "a"
      ],
      "execution_count": 31,
      "outputs": [
        {
          "output_type": "execute_result",
          "data": {
            "text/plain": [
              "array(['laptop', 'laptop', 'laptop', 'mobile phone', 'mobile phone',\n",
              "       'mobile phone', 'laptop', 'mobile phone', 'mobile phone', 'laptop'],\n",
              "      dtype=object)"
            ]
          },
          "metadata": {
            "tags": []
          },
          "execution_count": 31
        }
      ]
    },
    {
      "cell_type": "code",
      "metadata": {
        "id": "NKvU_EtJ_B-m",
        "colab_type": "code",
        "colab": {
          "base_uri": "https://localhost:8080/",
          "height": 223
        },
        "outputId": "354b94e4-bf09-440f-efa0-587f56e2a8a8"
      },
      "source": [
        "from sklearn.metrics import classification_report,confusion_matrix\n",
        "print(classification_report(y_test,pred))\n",
        "print(confusion_matrix(y_test,pred))"
      ],
      "execution_count": 32,
      "outputs": [
        {
          "output_type": "stream",
          "text": [
            "              precision    recall  f1-score   support\n",
            "\n",
            "      laptop       1.00      0.60      0.75         5\n",
            "mobile phone       0.71      1.00      0.83         5\n",
            "\n",
            "    accuracy                           0.80        10\n",
            "   macro avg       0.86      0.80      0.79        10\n",
            "weighted avg       0.86      0.80      0.79        10\n",
            "\n",
            "[[3 2]\n",
            " [0 5]]\n"
          ],
          "name": "stdout"
        }
      ]
    },
    {
      "cell_type": "code",
      "metadata": {
        "id": "olh5tnU7_FsA",
        "colab_type": "code",
        "colab": {
          "base_uri": "https://localhost:8080/",
          "height": 73
        },
        "outputId": "ad25417e-5957-43ed-aeeb-853d38bc99c3"
      },
      "source": [
        "from sklearn.tree import DecisionTreeClassifier as DTC\n",
        "mod=DTC(class_weight='balanced')\n",
        "mod.fit(x_train,y_train)\n",
        "pred=mod.predict(x_test)\n",
        "pred"
      ],
      "execution_count": 33,
      "outputs": [
        {
          "output_type": "execute_result",
          "data": {
            "text/plain": [
              "array(['laptop', 'laptop', 'mobile phone', 'laptop', 'mobile phone',\n",
              "       'laptop', 'laptop', 'mobile phone', 'laptop', 'mobile phone'],\n",
              "      dtype=object)"
            ]
          },
          "metadata": {
            "tags": []
          },
          "execution_count": 33
        }
      ]
    },
    {
      "cell_type": "code",
      "metadata": {
        "id": "ARSKDFyl_JTR",
        "colab_type": "code",
        "colab": {
          "base_uri": "https://localhost:8080/",
          "height": 73
        },
        "outputId": "1418eba3-73d5-425a-aec1-2400c6888865"
      },
      "source": [
        "a"
      ],
      "execution_count": 34,
      "outputs": [
        {
          "output_type": "execute_result",
          "data": {
            "text/plain": [
              "array(['laptop', 'laptop', 'laptop', 'mobile phone', 'mobile phone',\n",
              "       'mobile phone', 'laptop', 'mobile phone', 'mobile phone', 'laptop'],\n",
              "      dtype=object)"
            ]
          },
          "metadata": {
            "tags": []
          },
          "execution_count": 34
        }
      ]
    },
    {
      "cell_type": "code",
      "metadata": {
        "id": "uIjKTGfd_LDU",
        "colab_type": "code",
        "colab": {
          "base_uri": "https://localhost:8080/",
          "height": 223
        },
        "outputId": "d269f044-71c8-4128-9f09-b7eba9202b02"
      },
      "source": [
        "from sklearn.metrics import classification_report,confusion_matrix\n",
        "print(classification_report(y_test,pred))\n",
        "print(confusion_matrix(y_test,pred))"
      ],
      "execution_count": 35,
      "outputs": [
        {
          "output_type": "stream",
          "text": [
            "              precision    recall  f1-score   support\n",
            "\n",
            "      laptop       0.50      0.60      0.55         5\n",
            "mobile phone       0.50      0.40      0.44         5\n",
            "\n",
            "    accuracy                           0.50        10\n",
            "   macro avg       0.50      0.50      0.49        10\n",
            "weighted avg       0.50      0.50      0.49        10\n",
            "\n",
            "[[3 2]\n",
            " [3 2]]\n"
          ],
          "name": "stdout"
        }
      ]
    },
    {
      "cell_type": "code",
      "metadata": {
        "id": "3TMJrbl-_OLO",
        "colab_type": "code",
        "colab": {
          "base_uri": "https://localhost:8080/",
          "height": 73
        },
        "outputId": "3562c9cd-7453-42df-b125-aee77985c9c0"
      },
      "source": [
        "from sklearn import svm\n",
        "mod=svm.SVC()\n",
        "mod.fit(x_train,y_train)\n",
        "pred=mod.predict(x_test)\n",
        "\n",
        "pred"
      ],
      "execution_count": 36,
      "outputs": [
        {
          "output_type": "execute_result",
          "data": {
            "text/plain": [
              "array(['laptop', 'laptop', 'laptop', 'mobile phone', 'mobile phone',\n",
              "       'mobile phone', 'laptop', 'mobile phone', 'mobile phone',\n",
              "       'mobile phone'], dtype=object)"
            ]
          },
          "metadata": {
            "tags": []
          },
          "execution_count": 36
        }
      ]
    },
    {
      "cell_type": "code",
      "metadata": {
        "id": "7XsFuOPA_R0l",
        "colab_type": "code",
        "colab": {
          "base_uri": "https://localhost:8080/",
          "height": 73
        },
        "outputId": "92f940b1-4f1d-4930-93c8-6d0fd2182e1c"
      },
      "source": [
        "a"
      ],
      "execution_count": 37,
      "outputs": [
        {
          "output_type": "execute_result",
          "data": {
            "text/plain": [
              "array(['laptop', 'laptop', 'laptop', 'mobile phone', 'mobile phone',\n",
              "       'mobile phone', 'laptop', 'mobile phone', 'mobile phone', 'laptop'],\n",
              "      dtype=object)"
            ]
          },
          "metadata": {
            "tags": []
          },
          "execution_count": 37
        }
      ]
    },
    {
      "cell_type": "code",
      "metadata": {
        "id": "8uRzRmNY_TpC",
        "colab_type": "code",
        "colab": {
          "base_uri": "https://localhost:8080/",
          "height": 223
        },
        "outputId": "274420f9-0c62-4d49-a595-aa68f5b4d829"
      },
      "source": [
        "from sklearn.metrics import classification_report,confusion_matrix\n",
        "print(classification_report(y_test,pred))\n",
        "print(confusion_matrix(y_test,pred))"
      ],
      "execution_count": 38,
      "outputs": [
        {
          "output_type": "stream",
          "text": [
            "              precision    recall  f1-score   support\n",
            "\n",
            "      laptop       1.00      0.80      0.89         5\n",
            "mobile phone       0.83      1.00      0.91         5\n",
            "\n",
            "    accuracy                           0.90        10\n",
            "   macro avg       0.92      0.90      0.90        10\n",
            "weighted avg       0.92      0.90      0.90        10\n",
            "\n",
            "[[4 1]\n",
            " [0 5]]\n"
          ],
          "name": "stdout"
        }
      ]
    },
    {
      "cell_type": "code",
      "metadata": {
        "id": "ImRL9rKA_Xkh",
        "colab_type": "code",
        "colab": {
          "base_uri": "https://localhost:8080/",
          "height": 241
        },
        "outputId": "edfd6d2e-6182-4650-a607-acf7421473ec"
      },
      "source": [
        "from sklearn.ensemble import RandomForestClassifier as RFC\n",
        "m=RFC()\n",
        "m.fit(x_train,y_train)\n",
        "pred=m.predict(x_test)\n",
        "pred_prob=m.predict_proba(x_test)\n",
        "print(pred)\n",
        "print(pred_prob)"
      ],
      "execution_count": 39,
      "outputs": [
        {
          "output_type": "stream",
          "text": [
            "['mobile phone' 'laptop' 'laptop' 'laptop' 'mobile phone' 'mobile phone'\n",
            " 'laptop' 'mobile phone' 'mobile phone' 'mobile phone']\n",
            "[[0.47 0.53]\n",
            " [0.59 0.41]\n",
            " [0.59 0.41]\n",
            " [0.52 0.48]\n",
            " [0.36 0.64]\n",
            " [0.4  0.6 ]\n",
            " [0.69 0.31]\n",
            " [0.18 0.82]\n",
            " [0.18 0.82]\n",
            " [0.38 0.62]]\n"
          ],
          "name": "stdout"
        }
      ]
    },
    {
      "cell_type": "code",
      "metadata": {
        "id": "ai5SaiF6_a2M",
        "colab_type": "code",
        "colab": {
          "base_uri": "https://localhost:8080/",
          "height": 73
        },
        "outputId": "bcebecb5-de92-44bc-f060-c2e6a957a2af"
      },
      "source": [
        "a"
      ],
      "execution_count": 40,
      "outputs": [
        {
          "output_type": "execute_result",
          "data": {
            "text/plain": [
              "array(['laptop', 'laptop', 'laptop', 'mobile phone', 'mobile phone',\n",
              "       'mobile phone', 'laptop', 'mobile phone', 'mobile phone', 'laptop'],\n",
              "      dtype=object)"
            ]
          },
          "metadata": {
            "tags": []
          },
          "execution_count": 40
        }
      ]
    },
    {
      "cell_type": "code",
      "metadata": {
        "id": "rqM-0Lg6_dJL",
        "colab_type": "code",
        "colab": {
          "base_uri": "https://localhost:8080/",
          "height": 223
        },
        "outputId": "a6c34de1-c57d-4015-b1c1-47e2e2dadb2c"
      },
      "source": [
        "from sklearn.metrics import classification_report,confusion_matrix\n",
        "print(classification_report(y_test,pred))\n",
        "print(confusion_matrix(y_test,pred))"
      ],
      "execution_count": 41,
      "outputs": [
        {
          "output_type": "stream",
          "text": [
            "              precision    recall  f1-score   support\n",
            "\n",
            "      laptop       0.75      0.60      0.67         5\n",
            "mobile phone       0.67      0.80      0.73         5\n",
            "\n",
            "    accuracy                           0.70        10\n",
            "   macro avg       0.71      0.70      0.70        10\n",
            "weighted avg       0.71      0.70      0.70        10\n",
            "\n",
            "[[3 2]\n",
            " [1 4]]\n"
          ],
          "name": "stdout"
        }
      ]
    },
    {
      "cell_type": "code",
      "metadata": {
        "id": "6NxaJBVo_f0P",
        "colab_type": "code",
        "colab": {}
      },
      "source": [
        ""
      ],
      "execution_count": null,
      "outputs": []
    }
  ]
}